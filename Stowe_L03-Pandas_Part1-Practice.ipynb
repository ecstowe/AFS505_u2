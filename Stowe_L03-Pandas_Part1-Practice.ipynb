{
 "cells": [
  {
   "cell_type": "markdown",
   "metadata": {},
   "source": [
    "# Lesson 3 Practice: Pandas Part 1\n",
    "\n",
    "Use this notebook to follow along with the lesson in the corresponding lesson notebook: [L03-Pandas_Part1-Lesson.ipynb](./L03-Pandas_Part1-Lesson.ipynb).  "
   ]
  },
  {
   "cell_type": "markdown",
   "metadata": {},
   "source": [
    "## Instructions\n",
    "Follow along with the teaching material in the lesson. Throughout the tutorial sections labeled as \"Tasks\" are interspersed and indicated with the icon: ![Task](http://icons.iconarchive.com/icons/sbstnblnd/plateau/16/Apps-gnome-info-icon.png). You should follow the instructions provided in these sections by performing them in the practice notebook.  When the tutorial is completed you can turn in the final practice notebook. For each task, use the cell below it to write and test your code.  You may add additional cells for any task as needed or desired.  "
   ]
  },
  {
   "cell_type": "markdown",
   "metadata": {},
   "source": [
    "## Task 1a: Setup\n",
    "\n",
    "+ `numpy` as `np`\n",
    "+ `pandas` as `pd`\n"
   ]
  },
  {
   "cell_type": "code",
   "execution_count": 2,
   "metadata": {},
   "outputs": [],
   "source": [
    "import numpy as np\n",
    "import pandas as pd"
   ]
  },
  {
   "cell_type": "markdown",
   "metadata": {},
   "source": [
    "## Task 2a Create a `pd.Series` object\n",
    "\n",
    "+ Create a series of your own design."
   ]
  },
  {
   "cell_type": "code",
   "execution_count": 4,
   "metadata": {},
   "outputs": [],
   "source": [
    "my_series = pd.Series([True, False, True, False, True])"
   ]
  },
  {
   "cell_type": "markdown",
   "metadata": {},
   "source": [
    "## Task 2b: Creating a DataFrame\n",
    "\n",
    "+ Create a pd.DataFrame object from a Python dictionary. Design the data as you like."
   ]
  },
  {
   "cell_type": "code",
   "execution_count": 4,
   "metadata": {},
   "outputs": [
    {
     "data": {
      "text/html": [
       "<div>\n",
       "<style scoped>\n",
       "    .dataframe tbody tr th:only-of-type {\n",
       "        vertical-align: middle;\n",
       "    }\n",
       "\n",
       "    .dataframe tbody tr th {\n",
       "        vertical-align: top;\n",
       "    }\n",
       "\n",
       "    .dataframe thead th {\n",
       "        text-align: right;\n",
       "    }\n",
       "</style>\n",
       "<table border=\"1\" class=\"dataframe\">\n",
       "  <thead>\n",
       "    <tr style=\"text-align: right;\">\n",
       "      <th></th>\n",
       "      <th>english</th>\n",
       "      <th>spanish</th>\n",
       "    </tr>\n",
       "  </thead>\n",
       "  <tbody>\n",
       "    <tr>\n",
       "      <th>0</th>\n",
       "      <td>1</td>\n",
       "      <td>5</td>\n",
       "    </tr>\n",
       "    <tr>\n",
       "      <th>1</th>\n",
       "      <td>2</td>\n",
       "      <td>6</td>\n",
       "    </tr>\n",
       "    <tr>\n",
       "      <th>2</th>\n",
       "      <td>3</td>\n",
       "      <td>7</td>\n",
       "    </tr>\n",
       "    <tr>\n",
       "      <th>3</th>\n",
       "      <td>4</td>\n",
       "      <td>8</td>\n",
       "    </tr>\n",
       "  </tbody>\n",
       "</table>\n",
       "</div>"
      ],
      "text/plain": [
       "   english  spanish\n",
       "0        1        5\n",
       "1        2        6\n",
       "2        3        7\n",
       "3        4        8"
      ]
     },
     "execution_count": 4,
     "metadata": {},
     "output_type": "execute_result"
    }
   ],
   "source": [
    "my_dataFrame = pd.DataFrame({'english':[1, 2, 3, 4], 'spanish': [5,6,7,8]})\n",
    "my_dataFrame"
   ]
  },
  {
   "cell_type": "markdown",
   "metadata": {},
   "source": [
    "## Task 2c: Create DataFrame with labels\n",
    "\n",
    "+ Create a 10x5 dataframe of random numeric integers that follow a [Guassian (normal) Distribution](https://docs.scipy.org/doc/numpy-1.15.0/reference/generated/numpy.random.normal.html). \n",
    "  + Center the distrubtion at 0.85.\n",
    "  + We will use these values as assumed grades for a class of students\n",
    "+ Adjust the row indexes to be the names of hypothetical students.\n",
    "+ Adjust the columsn to be the names of hypothetical projects, homework, exam names, etc."
   ]
  },
  {
   "cell_type": "code",
   "execution_count": 11,
   "metadata": {},
   "outputs": [
    {
     "name": "stdout",
     "output_type": "stream",
     "text": [
      "[[ 2.00982055e+00  6.74104980e-01  1.98426586e+00  1.49290854e+00\n",
      "  -1.76974507e-01]\n",
      " [ 1.07139045e+00  6.21284261e-01  1.73647239e+00  7.66112814e-01\n",
      "   9.58018813e-01]\n",
      " [ 3.48980972e-01  1.65588465e+00  1.94988060e-01  1.15214275e+00\n",
      "   1.23590160e+00]\n",
      " [-7.01982718e-01  7.57835088e-01 -3.54145860e-01 -6.41422534e-01\n",
      "   1.32941067e+00]\n",
      " [ 2.00461221e+00  5.41102775e-01 -2.02955306e-01  1.00536976e+00\n",
      "   3.00551328e-01]\n",
      " [ 1.05290218e+00  7.21291492e-01  5.20412498e-01  4.85363923e-01\n",
      "   2.33158671e+00]\n",
      " [ 2.02561356e+00  3.04313560e-01  1.13973599e-01 -2.06954817e-02\n",
      "   1.21088553e-03]\n",
      " [ 8.87037303e-01  1.04704944e+00  8.26430150e-01  2.19839078e+00\n",
      "   1.28332639e+00]\n",
      " [ 3.02788343e+00  1.79147726e+00  1.96650265e+00  2.02125636e-01\n",
      "   3.71700066e+00]\n",
      " [ 1.77057422e+00  2.33417351e+00  3.52536816e-01  5.00418432e-02\n",
      "   6.42552404e-01]]\n",
      "        Homework     Exam1     Exam2     Exam3  Class Project\n",
      "Evan    2.009821  0.674105  1.984266  1.492909      -0.176975\n",
      "Rick    1.071390  0.621284  1.736472  0.766113       0.958019\n",
      "Rishi   0.348981  1.655885  0.194988  1.152143       1.235902\n",
      "Wilson -0.701983  0.757835 -0.354146 -0.641423       1.329411\n",
      "Tarah   2.004612  0.541103 -0.202955  1.005370       0.300551\n",
      "Emma    1.052902  0.721291  0.520412  0.485364       2.331587\n",
      "Emily   2.025614  0.304314  0.113974 -0.020695       0.001211\n",
      "Conner  0.887037  1.047049  0.826430  2.198391       1.283326\n",
      "Olga    3.027883  1.791477  1.966503  0.202126       3.717001\n",
      "Seanna  1.770574  2.334174  0.352537  0.050042       0.642552\n"
     ]
    }
   ],
   "source": [
    "dist = np.random.normal(0.85, scale =1, size = (10,5))\n",
    "\n",
    "print(dist)\n",
    "df = pd.DataFrame(dist, columns=('Homework','Exam1', 'Exam2', 'Exam3', 'Class Project'), index=('Evan','Rick','Rishi','Wilson','Tarah','Emma','Emily','Conner','Olga','Seanna'))\n",
    "print(df)\n"
   ]
  },
  {
   "cell_type": "markdown",
   "metadata": {},
   "source": [
    "## Task 3a: Import the iris.csv file\n",
    "\n",
    "+ Import the iris dataset.\n",
    "+ Take a look at the `pd.read_csv` online documentation. Write example code in a Markup cell for how you would import this file if it were tab-delimited."
   ]
  },
  {
   "cell_type": "code",
   "execution_count": 12,
   "metadata": {},
   "outputs": [
    {
     "name": "stdout",
     "output_type": "stream",
     "text": [
      "     sepal_length  sepal_width  petal_length  petal_width    species\n",
      "0             5.1          3.5           1.4          0.2     setosa\n",
      "1             4.9          3.0           1.4          0.2     setosa\n",
      "2             4.7          3.2           1.3          0.2     setosa\n",
      "3             4.6          3.1           1.5          0.2     setosa\n",
      "4             5.0          3.6           1.4          0.2     setosa\n",
      "..            ...          ...           ...          ...        ...\n",
      "145           6.7          3.0           5.2          2.3  virginica\n",
      "146           6.3          2.5           5.0          1.9  virginica\n",
      "147           6.5          3.0           5.2          2.0  virginica\n",
      "148           6.2          3.4           5.4          2.3  virginica\n",
      "149           5.9          3.0           5.1          1.8  virginica\n",
      "\n",
      "[150 rows x 5 columns]\n"
     ]
    }
   ],
   "source": [
    "iris_df = pd.read_csv('./iris.csv')\n",
    "print(iris_df)"
   ]
  },
  {
   "cell_type": "markdown",
   "metadata": {},
   "source": [
    "To import this file id it were tab-delimited I would execute the same code as in the above cell. pd.read_csv can open both comma-separated and tab-delimited formats. "
   ]
  },
  {
   "cell_type": "markdown",
   "metadata": {},
   "source": [
    "## Task 4a: Explore Data\n",
    "\n",
    " + Use `head`, `tail` and `sample` with the iris dataset.\n",
    " + Do the same with the dataset you created in task 2c."
   ]
  },
  {
   "cell_type": "code",
   "execution_count": 13,
   "metadata": {},
   "outputs": [
    {
     "name": "stdout",
     "output_type": "stream",
     "text": [
      "   sepal_length  sepal_width  petal_length  petal_width species\n",
      "0           5.1          3.5           1.4          0.2  setosa\n",
      "1           4.9          3.0           1.4          0.2  setosa\n",
      "2           4.7          3.2           1.3          0.2  setosa\n",
      "     sepal_length  sepal_width  petal_length  petal_width    species\n",
      "147           6.5          3.0           5.2          2.0  virginica\n",
      "148           6.2          3.4           5.4          2.3  virginica\n",
      "149           5.9          3.0           5.1          1.8  virginica\n",
      "     sepal_length  sepal_width  petal_length  petal_width    species\n",
      "143           6.8          3.2           5.9          2.3  virginica\n",
      "43            5.0          3.5           1.6          0.6     setosa\n",
      "       Homework     Exam1     Exam2     Exam3  Class Project\n",
      "Evan   2.009821  0.674105  1.984266  1.492909      -0.176975\n",
      "Rick   1.071390  0.621284  1.736472  0.766113       0.958019\n",
      "Rishi  0.348981  1.655885  0.194988  1.152143       1.235902\n",
      "        Homework     Exam1     Exam2     Exam3  Class Project\n",
      "Conner  0.887037  1.047049  0.826430  2.198391       1.283326\n",
      "Olga    3.027883  1.791477  1.966503  0.202126       3.717001\n",
      "Seanna  1.770574  2.334174  0.352537  0.050042       0.642552\n",
      "       Homework     Exam1     Exam2     Exam3  Class Project\n",
      "Emily  2.025614  0.304314  0.113974 -0.020695       0.001211\n",
      "Rishi  0.348981  1.655885  0.194988  1.152143       1.235902\n"
     ]
    }
   ],
   "source": [
    "print(iris_df.head(3))\n",
    "print(iris_df.tail(3))\n",
    "print(iris_df.sample(2))\n",
    "print(df.head(3))\n",
    "print(df.tail(3))\n",
    "print(df.sample(2))"
   ]
  },
  {
   "cell_type": "markdown",
   "metadata": {},
   "source": [
    "## Task 5a: Viewing columns and rows\n",
    "\n",
    "+ Display the columns and indexes of the iris dataset.\n",
    "+ Do the same with the dataset you created in Task 2c."
   ]
  },
  {
   "cell_type": "code",
   "execution_count": 15,
   "metadata": {},
   "outputs": [
    {
     "name": "stdout",
     "output_type": "stream",
     "text": [
      "Index(['sepal_length', 'sepal_width', 'petal_length', 'petal_width',\n",
      "       'species'],\n",
      "      dtype='object')\n",
      "RangeIndex(start=0, stop=150, step=1)\n",
      "Index(['Homework', 'Exam1', 'Exam2', 'Exam3', 'Class Project'], dtype='object')\n",
      "Index(['Evan', 'Rick', 'Rishi', 'Wilson', 'Tarah', 'Emma', 'Emily', 'Conner',\n",
      "       'Olga', 'Seanna'],\n",
      "      dtype='object')\n"
     ]
    }
   ],
   "source": [
    "print(iris_df.columns)\n",
    "print(iris_df.index)\n",
    "print(df.columns)\n",
    "print(df.index)"
   ]
  },
  {
   "cell_type": "markdown",
   "metadata": {},
   "source": [
    "## Task 5b: Get Values\n",
    "\n",
    "+ Check the version of `pandas` you have \n",
    "+ Use the appropriate method to convert the iris data to a dictionary.\n",
    "+ Do the same with the dataset you created in Task 2c.\n"
   ]
  },
  {
   "cell_type": "code",
   "execution_count": 27,
   "metadata": {},
   "outputs": [
    {
     "name": "stdout",
     "output_type": "stream",
     "text": [
      "1.0.1\n"
     ]
    }
   ],
   "source": [
    "print(pd.__version__)\n",
    "iris_array = iris_df.to_dict()\n",
    "my_array = df.to_dict()\n",
    "#print(iris_array)\n",
    "#print(my_array)\n"
   ]
  },
  {
   "cell_type": "markdown",
   "metadata": {},
   "source": [
    "## Task 5c: Using `loc`\n",
    "\n",
    "+ Use any iris dataframe to:\n",
    "  + Select a row slice with `loc`.\n",
    "  + Select a row and column slice with `loc`.\n",
    "  + Take a look at the [Pandas documentation for the `at` selector](https://pandas.pydata.org/pandas-docs/stable/reference/api/pandas.DataFrame.at.html). Use what you learn there to select a single item with Pandas `at` accessor."
   ]
  },
  {
   "cell_type": "code",
   "execution_count": 40,
   "metadata": {},
   "outputs": [
    {
     "name": "stdout",
     "output_type": "stream",
     "text": [
      "sepal_length       4.6\n",
      "sepal_width        3.1\n",
      "petal_length       1.5\n",
      "petal_width        0.2\n",
      "species         setosa\n",
      "Name: 3, dtype: object\n",
      "4.6\n"
     ]
    },
    {
     "data": {
      "text/plain": [
       "4.9"
      ]
     },
     "execution_count": 40,
     "metadata": {},
     "output_type": "execute_result"
    }
   ],
   "source": [
    "locrow = iris_df.loc[3]\n",
    "print(locrow)\n",
    "\n",
    "locrow_column = iris_df.loc[3,'sepal_length'] \n",
    "\n",
    "print(locrow_column)\n",
    "\n",
    "iris_df.at[1, 'sepal_length']"
   ]
  },
  {
   "cell_type": "markdown",
   "metadata": {},
   "source": [
    "## Task 5d: Using `iloc`\n",
    "\n",
    "+ Use any iris dataframe to:    \n",
    "    + Select a row slice with `iloc`.\n",
    "    + Select a row and column slice with `iloc`.\n",
    "    + Take a look at the [Pandas documentation for the `iat` selector](https://pandas.pydata.org/pandas-docs/stable/reference/api/pandas.DataFrame.iat.html). Use what you learn there to select a single item with Pandas `iat` accessor.\n",
    "\n"
   ]
  },
  {
   "cell_type": "code",
   "execution_count": 46,
   "metadata": {},
   "outputs": [
    {
     "name": "stdout",
     "output_type": "stream",
     "text": [
      "sepal_length       4.9\n",
      "sepal_width          3\n",
      "petal_length       1.4\n",
      "petal_width        0.2\n",
      "species         setosa\n",
      "Name: 1, dtype: object\n",
      "setosa\n"
     ]
    },
    {
     "data": {
      "text/plain": [
       "1.4"
      ]
     },
     "execution_count": 46,
     "metadata": {},
     "output_type": "execute_result"
    }
   ],
   "source": [
    "iloc_row = iris_df.iloc[1]\n",
    "print(iloc_row)\n",
    "\n",
    "iloc_row_column = iris_df.iloc[1, 4]\n",
    "print(iloc_row_column)\n",
    "\n",
    "iris_df.iat[1,2]"
   ]
  },
  {
   "cell_type": "markdown",
   "metadata": {},
   "source": [
    "## Task 5e: Boolean Indexing\n",
    "\n",
    "+ Create subsets of the iris dataset using boolean indexes that:\n",
    "    + Use one boolean operator.\n",
    "    + Use two boolean operators.\n",
    "\n"
   ]
  },
  {
   "cell_type": "code",
   "execution_count": 54,
   "metadata": {},
   "outputs": [
    {
     "name": "stdout",
     "output_type": "stream",
     "text": [
      "    sepal_length  sepal_width  petal_length  petal_width species\n",
      "3            4.6          3.1           1.5          0.2  setosa\n",
      "5            5.4          3.9           1.7          0.4  setosa\n",
      "7            5.0          3.4           1.5          0.2  setosa\n",
      "9            4.9          3.1           1.5          0.1  setosa\n",
      "10           5.4          3.7           1.5          0.2  setosa\n",
      "   sepal_length  sepal_width  petal_length  petal_width species\n",
      "0           5.1          3.5           1.4          0.2  setosa\n",
      "1           4.9          3.0           1.4          0.2  setosa\n",
      "2           4.7          3.2           1.3          0.2  setosa\n",
      "3           4.6          3.1           1.5          0.2  setosa\n",
      "4           5.0          3.6           1.4          0.2  setosa\n"
     ]
    }
   ],
   "source": [
    "#print(iris_df.head())\n",
    "\n",
    "LONG_petal = iris_df[iris_df['petal_length'] > 1.4].head()\n",
    "print(LONG_petal)\n",
    "setosa = iris_df[iris_df['species'] == 'setosa'].head()\n",
    "print(setosa)"
   ]
  }
 ],
 "metadata": {
  "kernelspec": {
   "display_name": "Python 3",
   "language": "python",
   "name": "python3"
  },
  "language_info": {
   "codemirror_mode": {
    "name": "ipython",
    "version": 3
   },
   "file_extension": ".py",
   "mimetype": "text/x-python",
   "name": "python",
   "nbconvert_exporter": "python",
   "pygments_lexer": "ipython3",
   "version": "3.8.1"
  }
 },
 "nbformat": 4,
 "nbformat_minor": 4
}
