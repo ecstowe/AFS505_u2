{
 "cells": [
  {
   "cell_type": "markdown",
   "metadata": {},
   "source": [
    "# Lesson 1 Practice: NumPy Part 1\n",
    "Use this notebook to follow along with the lesson in the corresponding lesson notebook: [L01-Numpy_Part1-Lesson.ipynb](./L01-Numpy_Part1-Lesson.ipynb).  \n",
    "\n"
   ]
  },
  {
   "cell_type": "markdown",
   "metadata": {},
   "source": [
    "## Instructions\n",
    "Follow along with the teaching material in the lesson. Throughout the tutorial sections labeled as \"Tasks\" are interspersed and indicated with the icon: ![Task](http://icons.iconarchive.com/icons/sbstnblnd/plateau/16/Apps-gnome-info-icon.png). You should follow the instructions provided in these sections by performing them in the practice notebook.  When the tutorial is completed you can turn in the final practice notebook. For each task, use the cell below it to write and test your code.  You may add additional cells for any task as needed or desired.  "
   ]
  },
  {
   "cell_type": "markdown",
   "metadata": {},
   "source": [
    "## Task 1a: Setup\n",
    "\n",
    "In the practice notebook, import the following packages:\n",
    "+ `numpy` as `np`"
   ]
  },
  {
   "cell_type": "code",
   "execution_count": 1,
   "metadata": {},
   "outputs": [],
   "source": [
    "import numpy as np"
   ]
  },
  {
   "cell_type": "markdown",
   "metadata": {},
   "source": [
    "## Task 2a: Creating Arrays\n",
    "\n",
    "In the practice notebook, perform the following.  \n",
    "- Create a 1-dimensional numpy array and print it.\n",
    "- Create a 2-dimensional numpy array and print it.\n",
    "- Create a 3-dimensional numpy array and print it."
   ]
  },
  {
   "cell_type": "code",
   "execution_count": 7,
   "metadata": {},
   "outputs": [
    {
     "name": "stdout",
     "output_type": "stream",
     "text": [
      "[1 2 3]\n"
     ]
    }
   ],
   "source": [
    "my_1D = np.array([1,2,3])\n",
    "print(my_1D)"
   ]
  },
  {
   "cell_type": "code",
   "execution_count": 8,
   "metadata": {},
   "outputs": [
    {
     "name": "stdout",
     "output_type": "stream",
     "text": [
      "[[1 2 3]\n",
      " [4 5 6]]\n"
     ]
    }
   ],
   "source": [
    "my_2D = np.array([[1,2,3], [4,5,6]])\n",
    "print(my_2D)"
   ]
  },
  {
   "cell_type": "code",
   "execution_count": 9,
   "metadata": {},
   "outputs": [
    {
     "name": "stdout",
     "output_type": "stream",
     "text": [
      "[[[ 4  5  6]\n",
      "  [ 1  2  3]]\n",
      "\n",
      " [[ 7  8  9]\n",
      "  [10 11 12]]]\n"
     ]
    }
   ],
   "source": [
    "my_3D = np.array([[[4,5,6], [1,2,3]], [[7,8,9], [10,11,12]]])\n",
    "print(my_3D)"
   ]
  },
  {
   "cell_type": "markdown",
   "metadata": {},
   "source": [
    "## Task 3a: Accessing Array Attributes\n",
    "\n",
    "In the practice notebook, perform the following.\n",
    "\n",
    "- Create a NumPy array.\n",
    "- Write code that prints these attributes (one per line): `ndim`, `shape`, `size`, `dtype`, `itemsize`, `data`, `nbytes`.\n",
    "- Add a comment line, before each line describing what value the attribute returns. \n"
   ]
  },
  {
   "cell_type": "code",
   "execution_count": 11,
   "metadata": {},
   "outputs": [
    {
     "name": "stdout",
     "output_type": "stream",
     "text": [
      "3\n",
      "(2, 2, 3)\n",
      "12\n",
      "int32\n",
      "4\n",
      "<memory at 0x000002ACE67E77C0>\n",
      "48\n"
     ]
    }
   ],
   "source": [
    "#returns number of dimensions in array\n",
    "print(my_3D.ndim)\n",
    "#returns a tuple of array dimensions\n",
    "print(my_3D.shape)\n",
    "#returns the number of elements in the array \n",
    "print(my_3D.size)\n",
    "#returns the data type of the array's elemetnts. here is integers of 32bit \n",
    "print(my_3D.dtype)\n",
    "#returns the length of one array element in bytes\n",
    "print(my_3D.itemsize)\n",
    "#returns a Python buffer object pointing to the start of the array \n",
    "print(my_3D.data)\n",
    "#returns the number of  bytes occupied by the array \n",
    "print(my_3D.nbytes)"
   ]
  },
  {
   "cell_type": "markdown",
   "metadata": {},
   "source": [
    "## Task 4a: Initializing Arrays\n",
    "\n",
    "In the practice notebook, perform the following.\n",
    "\n",
    "+ Create an initialized array by using these functions:  `ones`, `zeros`, `empty`, `full`, `arange`, `linspace` and `random.random`. Be sure to follow each array creation with a call to `print()` to display your newly created arrays. \n",
    "+ Add a comment above each function call describing what is being done.  "
   ]
  },
  {
   "cell_type": "code",
   "execution_count": 30,
   "metadata": {},
   "outputs": [
    {
     "name": "stdout",
     "output_type": "stream",
     "text": [
      "[1 1 1 1 1]\n",
      "[0 0 0 0 0 0 0]\n",
      "[[1.45313759e-311 9.58487353e-322 0.00000000e+000 0.00000000e+000\n",
      "  0.00000000e+000 5.02034658e+175]\n",
      " [4.43201830e+175 2.89892167e-057 6.00103273e-066 5.70112961e-038\n",
      "  1.47763641e+248 1.16096346e-028]\n",
      " [7.69165785e+218 1.35617292e+248 1.13952701e-071 5.40662172e-066\n",
      "  3.38209932e-061 4.90844587e-062]\n",
      " [4.30530275e-096 6.32299154e+233 6.48224638e+170 5.22411352e+257\n",
      "  5.74020278e+180 8.37174974e-144]\n",
      " [1.41529402e+161 6.00736899e-067 4.52743858e+097 9.75035690e-072\n",
      "  3.24724168e+126 6.79764374e-310]]\n",
      "[[8 8 8 8 8 8 8]\n",
      " [8 8 8 8 8 8 8]\n",
      " [8 8 8 8 8 8 8]\n",
      " [8 8 8 8 8 8 8]]\n",
      "[0 1 2 3 4]\n",
      "[5.         5.57142857 6.14285714 6.71428571 7.28571429 7.85714286\n",
      " 8.42857143 9.        ]\n",
      "[[-3.28102741 -3.32133584 -3.98299359]\n",
      " [-3.99277108 -3.64713643 -3.60762495]]\n"
     ]
    }
   ],
   "source": [
    "#Return a new array of given shape and type, filled with ones \n",
    "my_ones = np.ones(5, dtype = int)\n",
    "print(my_ones)\n",
    "#Return a new array of given shape and type, filled with zeros \n",
    "my_zeros = np.zeros(7, dtype = int)\n",
    "print(my_zeros)\n",
    "#Returns a new array of given shape and type, without initializing entries\n",
    "my_empty = np.empty([5,6])\n",
    "print(my_empty)\n",
    "#Return a new array of given shape and type, filled with fill_value\n",
    "my_full = np.full([4,7], 8)\n",
    "print(my_full)\n",
    "#Return evenly spaced values within a given interval\n",
    "my_arange = np.arange(5)\n",
    "print(my_arange)\n",
    "#Return evenly spaced numbers over a specified interval, \n",
    "#Returns num evenly spaced samples, calculated over the interval [start, stop]\n",
    "my_linspace = np.linspace(5,9, num = 8)\n",
    "print(my_linspace)\n",
    "#Can be used to return a single random value or an array of random values between 0 and 1\n",
    "my_random = np.random.random_sample((2,3)) -4\n",
    "print(my_random)\n"
   ]
  },
  {
   "cell_type": "markdown",
   "metadata": {},
   "source": [
    "## Task 5a:  Broadcasting Arrays\n",
    "\n",
    "In the practice notebook, perform the following.\n",
    "\n",
    "+ Create two arrays of differing sizes but compatible with broadcasting.\n",
    "+ Perform addition, multiplication and subtraction.\n",
    "+ Create two additional arrays of differing size that do not meet the rules for broadcasting and try a mathematical operation.  "
   ]
  },
  {
   "cell_type": "code",
   "execution_count": 34,
   "metadata": {},
   "outputs": [
    {
     "name": "stdout",
     "output_type": "stream",
     "text": [
      "[[1 1 1 1]\n",
      " [1 1 1 1]\n",
      " [1 1 1 1]]\n",
      "[[0.77447031 0.24627532 0.3672069  0.2566148 ]\n",
      " [0.08389736 0.71580696 0.3449881  0.17775234]\n",
      " [0.38409619 0.85501618 0.06984023 0.96027974]]\n"
     ]
    },
    {
     "data": {
      "text/plain": [
       "array([[0.22552969, 0.75372468, 0.6327931 , 0.7433852 ],\n",
       "       [0.91610264, 0.28419304, 0.6550119 , 0.82224766],\n",
       "       [0.61590381, 0.14498382, 0.93015977, 0.03972026]])"
      ]
     },
     "execution_count": 34,
     "metadata": {},
     "output_type": "execute_result"
    }
   ],
   "source": [
    "a_my_array = np.ones((3,4), dtype = int)\n",
    "b_my_array = np.random.random((3,4))\n",
    "print(a_my_array)\n",
    "print(b_my_array)\n",
    "a_my_array + b_my_array"
   ]
  },
  {
   "cell_type": "code",
   "execution_count": 35,
   "metadata": {},
   "outputs": [
    {
     "data": {
      "text/plain": [
       "array([[0.22552969, 0.75372468, 0.6327931 , 0.7433852 ],\n",
       "       [0.91610264, 0.28419304, 0.6550119 , 0.82224766],\n",
       "       [0.61590381, 0.14498382, 0.93015977, 0.03972026]])"
      ]
     },
     "execution_count": 35,
     "metadata": {},
     "output_type": "execute_result"
    }
   ],
   "source": [
    "a_my_array - b_my_array"
   ]
  },
  {
   "cell_type": "code",
   "execution_count": 36,
   "metadata": {},
   "outputs": [
    {
     "data": {
      "text/plain": [
       "array([[0.77447031, 0.24627532, 0.3672069 , 0.2566148 ],\n",
       "       [0.08389736, 0.71580696, 0.3449881 , 0.17775234],\n",
       "       [0.38409619, 0.85501618, 0.06984023, 0.96027974]])"
      ]
     },
     "execution_count": 36,
     "metadata": {},
     "output_type": "execute_result"
    }
   ],
   "source": [
    "a_my_array * b_my_array"
   ]
  },
  {
   "cell_type": "code",
   "execution_count": 37,
   "metadata": {},
   "outputs": [
    {
     "ename": "ValueError",
     "evalue": "operands could not be broadcast together with shapes (2,) (5,7) ",
     "output_type": "error",
     "traceback": [
      "\u001b[1;31m---------------------------------------------------------------------------\u001b[0m",
      "\u001b[1;31mValueError\u001b[0m                                Traceback (most recent call last)",
      "\u001b[1;32m<ipython-input-37-db87af36f1e9>\u001b[0m in \u001b[0;36m<module>\u001b[1;34m\u001b[0m\n\u001b[0;32m      2\u001b[0m \u001b[0minocmpatible_2\u001b[0m \u001b[1;33m=\u001b[0m \u001b[0mnp\u001b[0m\u001b[1;33m.\u001b[0m\u001b[0marray\u001b[0m\u001b[1;33m(\u001b[0m\u001b[1;33m[\u001b[0m\u001b[1;36m3\u001b[0m\u001b[1;33m,\u001b[0m\u001b[1;36m4\u001b[0m\u001b[1;33m]\u001b[0m\u001b[1;33m)\u001b[0m\u001b[1;33m\u001b[0m\u001b[1;33m\u001b[0m\u001b[0m\n\u001b[0;32m      3\u001b[0m \u001b[1;33m\u001b[0m\u001b[0m\n\u001b[1;32m----> 4\u001b[1;33m \u001b[0minocmpatible_2\u001b[0m \u001b[1;33m*\u001b[0m \u001b[0mincompatible_1\u001b[0m\u001b[1;33m\u001b[0m\u001b[1;33m\u001b[0m\u001b[0m\n\u001b[0m",
      "\u001b[1;31mValueError\u001b[0m: operands could not be broadcast together with shapes (2,) (5,7) "
     ]
    }
   ],
   "source": [
    "incompatible_1 = np.ones((5,7))\n",
    "inocmpatible_2 = np.array([3,4])\n",
    "\n",
    "inocmpatible_2 * incompatible_1"
   ]
  },
  {
   "cell_type": "markdown",
   "metadata": {},
   "source": [
    "## Task 6a: Math/Stats Aggregate Functions\n",
    "\n",
    "In the practice notebook, perform the following.\n",
    "\n",
    "+ Create three to five arrays\n",
    "+ Experiment with each of the aggregation functions: `sum`, `minimum`, `maximum`, `cumsum`, `mean`, `np.corrcoef`, `np.std`, `np.var`. \n",
    "+ For each function call, add a comment line above it that describes what it does.  \n",
    "```\n"
   ]
  },
  {
   "cell_type": "code",
   "execution_count": 46,
   "metadata": {},
   "outputs": [
    {
     "name": "stdout",
     "output_type": "stream",
     "text": [
      "[[1. 1. 1. 1. 1.]\n",
      " [1. 1. 1. 1. 1.]\n",
      " [1. 1. 1. 1. 1.]\n",
      " [1. 1. 1. 1. 1.]]\n",
      "[[8 8 8 8 8]\n",
      " [8 8 8 8 8]\n",
      " [8 8 8 8 8]\n",
      " [8 8 8 8 8]]\n",
      "[[1 2 3]\n",
      " [4 5 6]]\n"
     ]
    }
   ],
   "source": [
    "array_1 = np.ones((4,5))\n",
    "print(array_1)\n",
    "array_2 = np.full((4,5),8)\n",
    "print(array_2)\n",
    "array_3 = np.array([[1,2,3], [4,5,6]])\n",
    "print(array_3)"
   ]
  },
  {
   "cell_type": "code",
   "execution_count": 57,
   "metadata": {},
   "outputs": [
    {
     "name": "stdout",
     "output_type": "stream",
     "text": [
      "[4. 4. 4. 4. 4.]\n",
      "[[1. 1. 1. 1. 1.]\n",
      " [1. 1. 1. 1. 1.]\n",
      " [1. 1. 1. 1. 1.]\n",
      " [1. 1. 1. 1. 1.]]\n",
      "[[8. 8. 8. 8. 8.]\n",
      " [8. 8. 8. 8. 8.]\n",
      " [8. 8. 8. 8. 8.]\n",
      " [8. 8. 8. 8. 8.]]\n",
      "[[ 8  8  8  8  8]\n",
      " [16 16 16 16 16]\n",
      " [24 24 24 24 24]\n",
      " [32 32 32 32 32]]\n",
      "[2. 5.]\n",
      "[[nan nan nan nan nan nan nan nan]\n",
      " [nan nan nan nan nan nan nan nan]\n",
      " [nan nan nan nan nan nan nan nan]\n",
      " [nan nan nan nan nan nan nan nan]\n",
      " [nan nan nan nan nan nan nan nan]\n",
      " [nan nan nan nan nan nan nan nan]\n",
      " [nan nan nan nan nan nan nan nan]\n",
      " [nan nan nan nan nan nan nan nan]]\n",
      "[0.81649658 0.81649658]\n",
      "[0.66666667 0.66666667]\n"
     ]
    }
   ],
   "source": [
    "#Sum of array elements over a given axis\n",
    "array_sum = np.sum(array_1, 0)\n",
    "print( array_sum)\n",
    "#Element-wise minimum of array elements\n",
    "array_min = np.minimum(array_1, array_2)\n",
    "print(array_min)\n",
    "#Element-wise maximum of array elements\n",
    "array_max = np.maximum(array_1, array_2)\n",
    "print(array_max)\n",
    "#returns the cummulative sum of the elements along a given axes\n",
    "cumsum = np.cumsum(array_2,0)\n",
    "print(cumsum)\n",
    "#compute the arithmetic mean along the specified axis\n",
    "array_mean = np.mean(array_3, 1)\n",
    "print(array_mean)\n",
    "#return Pearson product-moment correlation coefficients between two 1D arrays or one 2D array\n",
    "array_corrcoef = np.corrcoef(array_2, array_1)\n",
    "print(array_corrcoef)\n",
    "# compute the standard deviation along the specified axis\n",
    "stddev = np.std(array_3, 1)\n",
    "print(stddev)\n",
    "#compute the variance along the specified axis\n",
    "array_var = np.var(array_3, 1)\n",
    "print(array_var)"
   ]
  },
  {
   "cell_type": "markdown",
   "metadata": {},
   "source": [
    "## Task 6b: Logical Aggregate Functions\n",
    "\n",
    "In the practice notebook, perform the following.\n",
    "\n",
    "+ Create two arrays containing boolean values.\n",
    "+ Experiment with each of the aggregation functions: `logical_and`, `logical_or`, `logical_not`. \n",
    "+ For each function call, add a comment line above it that describes what it does.  \n",
    "```"
   ]
  },
  {
   "cell_type": "code",
   "execution_count": 64,
   "metadata": {},
   "outputs": [
    {
     "name": "stdout",
     "output_type": "stream",
     "text": [
      "[False False  True False False]\n",
      "[ True  True  True  True  True]\n"
     ]
    },
    {
     "ename": "TypeError",
     "evalue": "return arrays must be of ArrayType",
     "output_type": "error",
     "traceback": [
      "\u001b[1;31m---------------------------------------------------------------------------\u001b[0m",
      "\u001b[1;31mTypeError\u001b[0m                                 Traceback (most recent call last)",
      "\u001b[1;32m<ipython-input-64-0036528ea009>\u001b[0m in \u001b[0;36m<module>\u001b[1;34m\u001b[0m\n\u001b[0;32m      8\u001b[0m \u001b[0mprint\u001b[0m\u001b[1;33m(\u001b[0m\u001b[0mboolean_or\u001b[0m\u001b[1;33m)\u001b[0m\u001b[1;33m\u001b[0m\u001b[1;33m\u001b[0m\u001b[0m\n\u001b[0;32m      9\u001b[0m \u001b[1;31m# computes the element-wise truth value of two arrays using NOT\u001b[0m\u001b[1;33m\u001b[0m\u001b[1;33m\u001b[0m\u001b[1;33m\u001b[0m\u001b[0m\n\u001b[1;32m---> 10\u001b[1;33m \u001b[0mboolean_not\u001b[0m \u001b[1;33m=\u001b[0m \u001b[0mnp\u001b[0m\u001b[1;33m.\u001b[0m\u001b[0mlogical_not\u001b[0m\u001b[1;33m(\u001b[0m\u001b[0mlogic_a\u001b[0m\u001b[1;33m,\u001b[0m \u001b[1;36m0\u001b[0m\u001b[1;33m)\u001b[0m\u001b[1;33m\u001b[0m\u001b[1;33m\u001b[0m\u001b[0m\n\u001b[0m\u001b[0;32m     11\u001b[0m \u001b[0mprint\u001b[0m\u001b[1;33m(\u001b[0m\u001b[0mboolean_not\u001b[0m\u001b[1;33m)\u001b[0m\u001b[1;33m\u001b[0m\u001b[1;33m\u001b[0m\u001b[0m\n",
      "\u001b[1;31mTypeError\u001b[0m: return arrays must be of ArrayType"
     ]
    }
   ],
   "source": [
    "logic_a = [True, True, True, False, True]\n",
    "logic_b = [False, False, True, True, False]\n",
    "#computes the element-wise truth value of two arrays using AND\n",
    "boolean_and = np.logical_and(logic_a, logic_b)\n",
    "print(boolean_and)\n",
    "#computes the element-wise truth value of two arrays using OR\n",
    "boolean_or = np.logical_or(logic_a, logic_b)\n",
    "print(boolean_or)\n",
    "# computes the element-wise truth value of two arrays using NOT\n",
    "boolean_not = np.logical_not(logic_a, 0)\n",
    "print(boolean_not)\n"
   ]
  },
  {
   "cell_type": "code",
   "execution_count": null,
   "metadata": {},
   "outputs": [],
   "source": []
  }
 ],
 "metadata": {
  "kernelspec": {
   "display_name": "Python 3",
   "language": "python",
   "name": "python3"
  },
  "language_info": {
   "codemirror_mode": {
    "name": "ipython",
    "version": 3
   },
   "file_extension": ".py",
   "mimetype": "text/x-python",
   "name": "python",
   "nbconvert_exporter": "python",
   "pygments_lexer": "ipython3",
   "version": "3.8.1"
  }
 },
 "nbformat": 4,
 "nbformat_minor": 4
}
